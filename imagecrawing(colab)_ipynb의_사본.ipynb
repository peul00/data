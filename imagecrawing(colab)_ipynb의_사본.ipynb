{
  "nbformat": 4,
  "nbformat_minor": 0,
  "metadata": {
    "colab": {
      "name": "imagecrawing(colab).ipynb의 사본",
      "provenance": [],
      "collapsed_sections": [],
      "include_colab_link": true
    },
    "kernelspec": {
      "name": "python3",
      "display_name": "Python 3"
    },
    "language_info": {
      "name": "python"
    }
  },
  "cells": [
    {
      "cell_type": "markdown",
      "metadata": {
        "id": "view-in-github",
        "colab_type": "text"
      },
      "source": [
        "<a href=\"https://colab.research.google.com/github/peul00/data/blob/main/imagecrawing(colab)_ipynb%EC%9D%98_%EC%82%AC%EB%B3%B8.ipynb\" target=\"_parent\"><img src=\"https://colab.research.google.com/assets/colab-badge.svg\" alt=\"Open In Colab\"/></a>"
      ]
    },
    {
      "cell_type": "code",
      "metadata": {
        "colab": {
          "base_uri": "https://localhost:8080/",
          "height": 35
        },
        "id": "j3BssbxaSqNq",
        "outputId": "2b8c94c0-9e3c-4a46-80d0-939fc77a6272"
      },
      "source": [
        "import platform\n",
        "platform.platform()"
      ],
      "execution_count": null,
      "outputs": [
        {
          "output_type": "execute_result",
          "data": {
            "application/vnd.google.colaboratory.intrinsic+json": {
              "type": "string"
            },
            "text/plain": [
              "'Linux-4.19.112+-x86_64-with-Ubuntu-18.04-bionic'"
            ]
          },
          "metadata": {
            "tags": []
          },
          "execution_count": 1
        }
      ]
    },
    {
      "cell_type": "code",
      "metadata": {
        "id": "EAGZRcOvDjKe",
        "colab": {
          "base_uri": "https://localhost:8080/"
        },
        "outputId": "89bdc972-ae73-4b6e-9a27-836cfc2a4782"
      },
      "source": [
        "!pip install selenium # !은 현재 운영체제 셀 모드에서 명령어 사용\n",
        "!apt-get update       #우분투 최신 업데이트 확인\n",
        "!apt install chromium-chromedriver #크롬 드라이브 설치"
      ],
      "execution_count": null,
      "outputs": [
        {
          "output_type": "stream",
          "text": [
            "Collecting selenium\n",
            "\u001b[?25l  Downloading https://files.pythonhosted.org/packages/80/d6/4294f0b4bce4de0abf13e17190289f9d0613b0a44e5dd6a7f5ca98459853/selenium-3.141.0-py2.py3-none-any.whl (904kB)\n",
            "\u001b[K     |████████████████████████████████| 911kB 6.6MB/s \n",
            "\u001b[?25hRequirement already satisfied: urllib3 in /usr/local/lib/python3.7/dist-packages (from selenium) (1.24.3)\n",
            "Installing collected packages: selenium\n",
            "Successfully installed selenium-3.141.0\n",
            "Get:1 https://cloud.r-project.org/bin/linux/ubuntu bionic-cran40/ InRelease [3,626 B]\n",
            "Ign:2 https://developer.download.nvidia.com/compute/cuda/repos/ubuntu1804/x86_64  InRelease\n",
            "Ign:3 https://developer.download.nvidia.com/compute/machine-learning/repos/ubuntu1804/x86_64  InRelease\n",
            "Hit:4 https://developer.download.nvidia.com/compute/cuda/repos/ubuntu1804/x86_64  Release\n",
            "Hit:5 https://developer.download.nvidia.com/compute/machine-learning/repos/ubuntu1804/x86_64  Release\n",
            "Get:6 http://ppa.launchpad.net/c2d4u.team/c2d4u4.0+/ubuntu bionic InRelease [15.9 kB]\n",
            "Get:7 http://security.ubuntu.com/ubuntu bionic-security InRelease [88.7 kB]\n",
            "Hit:8 http://archive.ubuntu.com/ubuntu bionic InRelease\n",
            "Get:9 http://archive.ubuntu.com/ubuntu bionic-updates InRelease [88.7 kB]\n",
            "Hit:10 http://ppa.launchpad.net/cran/libgit2/ubuntu bionic InRelease\n",
            "Get:12 http://archive.ubuntu.com/ubuntu bionic-backports InRelease [74.6 kB]\n",
            "Get:13 http://ppa.launchpad.net/deadsnakes/ppa/ubuntu bionic InRelease [15.9 kB]\n",
            "Hit:15 http://ppa.launchpad.net/graphics-drivers/ppa/ubuntu bionic InRelease\n",
            "Get:16 http://ppa.launchpad.net/c2d4u.team/c2d4u4.0+/ubuntu bionic/main Sources [1,751 kB]\n",
            "Get:17 http://archive.ubuntu.com/ubuntu bionic-updates/main amd64 Packages [2,476 kB]\n",
            "Get:18 http://ppa.launchpad.net/c2d4u.team/c2d4u4.0+/ubuntu bionic/main amd64 Packages [896 kB]\n",
            "Get:19 http://archive.ubuntu.com/ubuntu bionic-updates/universe amd64 Packages [2,173 kB]\n",
            "Get:20 http://ppa.launchpad.net/deadsnakes/ppa/ubuntu bionic/main amd64 Packages [39.5 kB]\n",
            "Fetched 7,622 kB in 4s (2,175 kB/s)\n",
            "Reading package lists... Done\n",
            "Reading package lists... Done\n",
            "Building dependency tree       \n",
            "Reading state information... Done\n",
            "The following additional packages will be installed:\n",
            "  chromium-browser chromium-browser-l10n chromium-codecs-ffmpeg-extra\n",
            "Suggested packages:\n",
            "  webaccounts-chromium-extension unity-chromium-extension\n",
            "The following NEW packages will be installed:\n",
            "  chromium-browser chromium-browser-l10n chromium-chromedriver\n",
            "  chromium-codecs-ffmpeg-extra\n",
            "0 upgraded, 4 newly installed, 0 to remove and 34 not upgraded.\n",
            "Need to get 83.2 MB of archives.\n",
            "After this operation, 282 MB of additional disk space will be used.\n",
            "Get:1 http://archive.ubuntu.com/ubuntu bionic-updates/universe amd64 chromium-codecs-ffmpeg-extra amd64 89.0.4389.90-0ubuntu0.18.04.2 [1,127 kB]\n",
            "Get:2 http://archive.ubuntu.com/ubuntu bionic-updates/universe amd64 chromium-browser amd64 89.0.4389.90-0ubuntu0.18.04.2 [73.6 MB]\n",
            "Get:3 http://archive.ubuntu.com/ubuntu bionic-updates/universe amd64 chromium-browser-l10n all 89.0.4389.90-0ubuntu0.18.04.2 [3,809 kB]\n",
            "Get:4 http://archive.ubuntu.com/ubuntu bionic-updates/universe amd64 chromium-chromedriver amd64 89.0.4389.90-0ubuntu0.18.04.2 [4,697 kB]\n",
            "Fetched 83.2 MB in 4s (21.6 MB/s)\n",
            "Selecting previously unselected package chromium-codecs-ffmpeg-extra.\n",
            "(Reading database ... 160983 files and directories currently installed.)\n",
            "Preparing to unpack .../chromium-codecs-ffmpeg-extra_89.0.4389.90-0ubuntu0.18.04.2_amd64.deb ...\n",
            "Unpacking chromium-codecs-ffmpeg-extra (89.0.4389.90-0ubuntu0.18.04.2) ...\n",
            "Selecting previously unselected package chromium-browser.\n",
            "Preparing to unpack .../chromium-browser_89.0.4389.90-0ubuntu0.18.04.2_amd64.deb ...\n",
            "Unpacking chromium-browser (89.0.4389.90-0ubuntu0.18.04.2) ...\n",
            "Selecting previously unselected package chromium-browser-l10n.\n",
            "Preparing to unpack .../chromium-browser-l10n_89.0.4389.90-0ubuntu0.18.04.2_all.deb ...\n",
            "Unpacking chromium-browser-l10n (89.0.4389.90-0ubuntu0.18.04.2) ...\n",
            "Selecting previously unselected package chromium-chromedriver.\n",
            "Preparing to unpack .../chromium-chromedriver_89.0.4389.90-0ubuntu0.18.04.2_amd64.deb ...\n",
            "Unpacking chromium-chromedriver (89.0.4389.90-0ubuntu0.18.04.2) ...\n",
            "Setting up chromium-codecs-ffmpeg-extra (89.0.4389.90-0ubuntu0.18.04.2) ...\n",
            "Setting up chromium-browser (89.0.4389.90-0ubuntu0.18.04.2) ...\n",
            "update-alternatives: using /usr/bin/chromium-browser to provide /usr/bin/x-www-browser (x-www-browser) in auto mode\n",
            "update-alternatives: using /usr/bin/chromium-browser to provide /usr/bin/gnome-www-browser (gnome-www-browser) in auto mode\n",
            "Setting up chromium-chromedriver (89.0.4389.90-0ubuntu0.18.04.2) ...\n",
            "Setting up chromium-browser-l10n (89.0.4389.90-0ubuntu0.18.04.2) ...\n",
            "Processing triggers for man-db (2.8.3-2ubuntu0.1) ...\n",
            "Processing triggers for hicolor-icon-theme (0.17-2) ...\n",
            "Processing triggers for mime-support (3.60ubuntu1) ...\n",
            "Processing triggers for libc-bin (2.27-3ubuntu1.2) ...\n",
            "/sbin/ldconfig.real: /usr/local/lib/python3.7/dist-packages/ideep4py/lib/libmkldnn.so.0 is not a symbolic link\n",
            "\n"
          ],
          "name": "stdout"
        }
      ]
    },
    {
      "cell_type": "code",
      "metadata": {
        "id": "n_n-qCmUOFzW",
        "colab": {
          "base_uri": "https://localhost:8080/"
        },
        "outputId": "cd4d3863-4cc1-4d88-cbdc-d457c41e04d7"
      },
      "source": [
        "from  google.colab import drive\n",
        "drive.mount('/gdrive')"
      ],
      "execution_count": null,
      "outputs": [
        {
          "output_type": "stream",
          "text": [
            "Mounted at /gdrive\n"
          ],
          "name": "stdout"
        }
      ]
    },
    {
      "cell_type": "code",
      "metadata": {
        "id": "h7YVMB08Btb2"
      },
      "source": [
        "from urllib.request import urlretrieve # URL을 통해 여러 작업을 수행하는 모듈들의 패키지, urllib.request모듈의urlretrieve함수 임포트\n",
        "from urllib.parse import quote_plus#urllib.parse모듈의 quote_plus함수\n",
        "from bs4 import BeautifulSoup    # pip install bs4 설치필요, BeautifulSoup 모듈 임포트\n",
        "from selenium import webdriver   # pip install selenium 설치 필요,webdriver 임포트\n",
        "import os #os 모듈의 함수 임포트\n",
        "\n",
        "def createFolder(dir): #인자로 받은 매개변수dir의디렉토리 생성 없으면 만듦\n",
        "    try:\n",
        "        if not os.path.exists(dir):\n",
        "            os.makedirs(dir)\n",
        "    except OSError:\n",
        "        print('Error: Creating directory. '+dir)\n",
        "\n",
        "\n",
        "search = input(\"키워드를 입력하시오. \")\n",
        "# url='https://www.google.co.kr/search?tbm=isch&q='+search\n",
        "url='https://www.google.co.kr/search?tbm=isch&q={}'.format(quote_plus(search))\n",
        "# url = f'https://www.google.co.kr/search?tbm=isch&q={quote_plus(search)}'#f는 quote_plus()인자로 주어진 문자열에서 특수문자를 문자열로 변환\n",
        "print(url)\n",
        "# driver=webdriver.Chrome('chromedriver')\n",
        "\n",
        "##--colab 추가 부분 headless 모드--\n",
        "chrome_options = webdriver.ChromeOptions()\n",
        "chrome_options.add_argument('--headless')#크롬 옵션 만들기\n",
        "chrome_options.add_argument('--no-sandbox')\n",
        "chrome_options.add_argument('--disable-dev-shm-usage')\n",
        "driver = webdriver.Chrome('chromedriver', chrome_options=chrome_options)# 셀레늄 사용,크롬드라이버 옵션과 함께 설정,webdriver로 크롬제어어\n",
        "##--colab 추가 부분--\n",
        "\n",
        "driver.implicitly_wait(3) #페이지 로딩을 위해 웹 브라우저에서 기다림,셀레늄\n",
        "driver.get(url) #변수url에 저장된 주소로 브라우저 열기\n",
        "\n",
        "num=2\n",
        "for i in range(num):#2번 반복으로 데이터 수집량(시간) 늘이기\n",
        "    driver.execute_script(\"window.scrollBy(0,1000)\") #자바스크립트 실행\n",
        "\n",
        "html = driver.page_source #브라우저에 보이는 그대로의 HTML, 크롬 개발자 도구의 Element 탭 내용과 동일.\n",
        "soup = BeautifulSoup(html,'html.parser')\n",
        "img=soup.find_all('img',attrs={'class':'rg_i Q4LuWd'})# img = soup.select('.rg_i.Q4LuWd')\n",
        "#print(list(img))#img 내용을 출력하여 확인\n",
        "\n",
        "\n",
        "imgurl = []\n",
        "\n",
        "for i in img:\n",
        "    # print(i)#i의 내용 출력하여 확인\n",
        "    try:\n",
        "        imgurl.append(i.attrs[\"src\"])#i의 속성 중 src가 이미지 링크주소를 리스트에 추가\n",
        "    except KeyError: #예외 발생 src 속성 없으면 다른 속성값으로\n",
        "        imgurl.append(i.attrs[\"data-src\"]) \n",
        "\n",
        "n=0                    \n",
        "for i in imgurl:\n",
        "    n+=1\n",
        "    dir=\"../gdrive/MyDrive/aimages/\"+search  # 내 드라이브의 이미지 저장할 경로 설정\n",
        "    createFolder(dir)# 사용자 정의 함수 호출,위에 있음\n",
        "    urlretrieve(i, dir+\"/\"+search+str(n)+\".jpg\")#url를 로컬파일로  복사,파일이름은 일련번호 증가시켜 문자열로 지정\n",
        "driver.close() #크롬드라이버 닫기, \n",
        "print('파일개수:',n)\n",
        "                      \n"
      ],
      "execution_count": null,
      "outputs": []
    }
  ]
}